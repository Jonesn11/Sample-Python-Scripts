{
 "cells": [
  {
   "cell_type": "code",
   "execution_count": 4,
   "metadata": {
    "collapsed": true
   },
   "outputs": [],
   "source": [
    "import pandas as pd\n",
    "df = pd.read_csv('survey_results_public.csv')"
   ]
  },
  {
   "cell_type": "code",
   "execution_count": 7,
   "metadata": {},
   "outputs": [
    {
     "data": {
      "text/plain": [
       "0                 Online course; Open source contributions\n",
       "1        Online course; Self-taught; Hackathon; Open so...\n",
       "2        Self-taught; Coding competition; Hackathon; Op...\n",
       "3                                                      NaN\n",
       "4                                                      NaN\n",
       "5        Self-taught; Hackathon; Open source contributions\n",
       "6        Online course; Part-time/evening course; On-th...\n",
       "7        Online course; On-the-job training; Self-taugh...\n",
       "8                                                      NaN\n",
       "9                   Self-taught; Open source contributions\n",
       "10         Online course; On-the-job training; Self-taught\n",
       "11                                                     NaN\n",
       "12                                                     NaN\n",
       "13       Part-time/evening course; On-the-job training;...\n",
       "14                                                     NaN\n",
       "15                                                     NaN\n",
       "16       Online course; Bootcamp; Industry certificatio...\n",
       "17       On-the-job training; Self-taught; Coding compe...\n",
       "18                                  Self-taught; Hackathon\n",
       "19                        On-the-job training; Self-taught\n",
       "20                                                     NaN\n",
       "21       Online course; Industry certification; On-the-...\n",
       "22                                             Self-taught\n",
       "23       Online course; Self-taught; Coding competition...\n",
       "24                                                     NaN\n",
       "25                                                     NaN\n",
       "26                                                     NaN\n",
       "27                                                     NaN\n",
       "28       Self-taught; Hackathon; Open source contributions\n",
       "29       Online course; Part-time/evening course; On-th...\n",
       "                               ...                        \n",
       "51362    Online course; Bootcamp; Industry certificatio...\n",
       "51363                     On-the-job training; Self-taught\n",
       "51364                      Self-taught; Coding competition\n",
       "51365    Bootcamp; Part-time/evening course; On-the-job...\n",
       "51366                     On-the-job training; Self-taught\n",
       "51367    Online course; Part-time/evening course; On-th...\n",
       "51368                           Online course; Self-taught\n",
       "51369                                                  NaN\n",
       "51370               Self-taught; Open source contributions\n",
       "51371                                                  NaN\n",
       "51372                     Bootcamp; Self-taught; Hackathon\n",
       "51373    Online course; Bootcamp; Industry certificatio...\n",
       "51374          On-the-job training; Self-taught; Hackathon\n",
       "51375    Online course; Industry certification; On-the-...\n",
       "51376                                                  NaN\n",
       "51377                                                  NaN\n",
       "51378    Online course; Hackathon; Open source contribu...\n",
       "51379                                                  NaN\n",
       "51380      Online course; Bootcamp; Self-taught; Hackathon\n",
       "51381                     On-the-job training; Self-taught\n",
       "51382                                          Self-taught\n",
       "51383                                                  NaN\n",
       "51384                     On-the-job training; Self-taught\n",
       "51385    Online course; Part-time/evening course; Indus...\n",
       "51386               Self-taught; Open source contributions\n",
       "51387       Online course; Self-taught; Coding competition\n",
       "51388                                        Online course\n",
       "51389                      Self-taught; Coding competition\n",
       "51390                                                  NaN\n",
       "51391    Online course; Part-time/evening course; Indus...\n",
       "Name: EducationTypes, Length: 51392, dtype: object"
      ]
     },
     "execution_count": 7,
     "metadata": {},
     "output_type": "execute_result"
    }
   ],
   "source": [
    "df['EducationTypes']"
   ]
  },
  {
   "cell_type": "code",
   "execution_count": null,
   "metadata": {
    "collapsed": true
   },
   "outputs": [],
   "source": []
  }
 ],
 "metadata": {
  "kernelspec": {
   "display_name": "Python 3",
   "language": "python",
   "name": "python3"
  },
  "language_info": {
   "codemirror_mode": {
    "name": "ipython",
    "version": 3
   },
   "file_extension": ".py",
   "mimetype": "text/x-python",
   "name": "python",
   "nbconvert_exporter": "python",
   "pygments_lexer": "ipython3",
   "version": "3.6.3"
  }
 },
 "nbformat": 4,
 "nbformat_minor": 2
}
